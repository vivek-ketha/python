{
 "cells": [
  {
   "cell_type": "markdown",
   "metadata": {},
   "source": [
    "Q1. Write a function that takes a positive integer num and calculates how many dots exist in a pentagonal shape around the center dot on the Nth iteration.\n",
    "\n",
    "In the image below you can see the first iteration is only a single dot. On the second, there are 6 dots. On the third, there are 16 dots, and on the fourth there are 31 dots.\n",
    "\n",
    "\n",
    "Return the number of dots that exist in the whole pentagon on the Nth iteration.\n",
    "\n",
    "Examples\n",
    "\n",
    "pentagonal(1) ➞ 1\n",
    "\n",
    "pentagonal(2) ➞ 6\n",
    "\n",
    "pentagonal(3) ➞ 16\n",
    "\n",
    "pentagonal(8) ➞ 141\n",
    "\n"
   ]
  },
  {
   "cell_type": "code",
   "execution_count": 2,
   "metadata": {},
   "outputs": [],
   "source": [
    "def pentagon(num):\n",
    "    output=1\n",
    "    if num>=1:\n",
    "        for i in range(num):\n",
    "            output=output+5*i\n",
    "        print(f'pentagon({num}) ➞ {output}')\n",
    "    else:\n",
    "        print('enter positive integer')"
   ]
  },
  {
   "cell_type": "code",
   "execution_count": 5,
   "metadata": {},
   "outputs": [
    {
     "name": "stdout",
     "output_type": "stream",
     "text": [
      "pentagon(1) ➞ 1\n",
      "pentagon(2) ➞ 6\n",
      "pentagon(3) ➞ 16\n",
      "pentagon(8) ➞ 141\n"
     ]
    }
   ],
   "source": [
    "pentagon(1)\n",
    "pentagon(2)\n",
    "pentagon(3)\n",
    "pentagon(8)"
   ]
  },
  {
   "cell_type": "markdown",
   "metadata": {},
   "source": [
    "Q2. Make a function that encrypts a given input with these steps:\n",
    "\n",
    "Input: \"apple\"\n",
    "\n",
    "Step 1: Reverse the input: \"elppa\"\n",
    "\n",
    "Step 2: Replace all vowels using the following chart:\n",
    "\n",
    "a => 0\n",
    "e => 1\n",
    "i => 2\n",
    "o => 2\n",
    "u => 3\n",
    "\n",
    "#\"1lpp0\"\n",
    "\n",
    "Step 3: Add \"aca\" to the end of the word: \"1lpp0aca\"\n",
    "\n",
    "Output: \"1lpp0aca\"\n",
    "\n",
    "Examples\n",
    "\n",
    "encrypt(\"banana\") ➞ \"0n0n0baca\"\n",
    "\n",
    "encrypt(\"karaca\") ➞ \"0c0r0kaca\"\n",
    "\n",
    "encrypt(\"burak\") ➞ \"k0r3baca\"\n",
    "\n",
    "encrypt(\"alpaca\") ➞ \"0c0pl0aca\"\n"
   ]
  },
  {
   "cell_type": "code",
   "execution_count": 17,
   "metadata": {},
   "outputs": [],
   "source": [
    "def encrypt(input_):\n",
    "    dict_vowel={'a':'0','e':'1','i':'2','o':'2','u':'3'}\n",
    "    output=''\n",
    "    for i in input_[::-1]:\n",
    "        if i in dict_vowel.keys():\n",
    "            output+=dict_vowel[i]\n",
    "        else:\n",
    "            output+=i\n",
    "    output+='aca'\n",
    "    print(f'encrypt({input_}) ➞ {output}')"
   ]
  },
  {
   "cell_type": "code",
   "execution_count": 19,
   "metadata": {},
   "outputs": [
    {
     "name": "stdout",
     "output_type": "stream",
     "text": [
      "encrypt(apple) ➞ 1lpp0aca\n",
      "encrypt(banana) ➞ 0n0n0baca\n",
      "encrypt(karaca) ➞ 0c0r0kaca\n",
      "encrypt(burak) ➞ k0r3baca\n",
      "encrypt(alpaca) ➞ 0c0pl0aca\n"
     ]
    }
   ],
   "source": [
    "encrypt('apple')\n",
    "encrypt('banana')\n",
    "encrypt('karaca')\n",
    "encrypt('burak')\n",
    "encrypt('alpaca')"
   ]
  },
  {
   "cell_type": "markdown",
   "metadata": {},
   "source": [
    "Q3. Given the month and year as numbers, return whether that month contains a Friday 13th.(i.e You can check Python's datetime module)\n",
    "\n",
    "Examples\n",
    "\n",
    "has_friday_13(3, 2020) ➞ True\n",
    "\n",
    "has_friday_13(10, 2017) ➞ True\n",
    "\n",
    "has_friday_13(1, 1985) ➞ False\n"
   ]
  },
  {
   "cell_type": "code",
   "execution_count": 22,
   "metadata": {},
   "outputs": [],
   "source": [
    "import datetime\n",
    "def has_friday_13(month,year):\n",
    "        output = False\n",
    "        if datetime.datetime(year,month,13).strftime('%A') == 'Friday':\n",
    "            output = True\n",
    "        print(f'has_friday_13{month,year} ➞ {output}')"
   ]
  },
  {
   "cell_type": "code",
   "execution_count": 24,
   "metadata": {},
   "outputs": [
    {
     "name": "stdout",
     "output_type": "stream",
     "text": [
      "has_friday_13(3, 2020) ➞ True\n",
      "has_friday_13(10, 2017) ➞ True\n",
      "has_friday_13(1, 1985) ➞ False\n"
     ]
    }
   ],
   "source": [
    "has_friday_13(3,2020)\n",
    "has_friday_13(10,2017)\n",
    "has_friday_13(1,1985)"
   ]
  },
  {
   "cell_type": "markdown",
   "metadata": {},
   "source": [
    "Q4. Write a regular expression that will help us count how many bad cookies are produced every day. You must use RegEx negative lookbehind.\n",
    "\n",
    "Example\n",
    "\n",
    "lst =[\"bad cookie\", \"good cookie\", \"bad cookie\", \"good cookie\", \"good cookie\"]\n",
    "pattern = \"yourregularexpressionhere\"\n",
    "\n",
    "len(re.findall(pattern, \", \".join(lst))) ➞ 2"
   ]
  },
  {
   "cell_type": "code",
   "execution_count": 26,
   "metadata": {},
   "outputs": [
    {
     "name": "stdout",
     "output_type": "stream",
     "text": [
      "No of Bad cookies produced per day ➞ 2\n"
     ]
    }
   ],
   "source": [
    "import re\n",
    "lst = [\"bad cookie\", \"good cookie\", \"bad cookie\", \"good cookie\", \"good cookie\"]\n",
    "pattern=r'(?<!good)\\scookie'\n",
    "data = re.findall(pattern,' '.join(lst))\n",
    "print(f'No of Bad cookies produced per day ➞ {len(data)}')"
   ]
  },
  {
   "cell_type": "markdown",
   "metadata": {},
   "source": [
    "Q5. Given a list of words in the singular form, return a set of those words in the plural form if they appear more than once in the list.\n",
    "\n",
    "Examples\n",
    "\n",
    "pluralize([\"cow\", \"pig\", \"cow\", \"cow\"]) ➞ { \"cows\", \"pig\" }\n",
    "\n",
    "pluralize([\"table\", \"table\", \"table\"]) ➞ { \"tables\" }\n",
    "\n",
    "pluralize([\"chair\", \"pencil\", \"arm\"]) ➞ { \"chair\", \"pencil\", \"arm\" }"
   ]
  },
  {
   "cell_type": "code",
   "execution_count": 32,
   "metadata": {},
   "outputs": [],
   "source": [
    "def pluralize(input_list):\n",
    "    output=set()\n",
    "    for i in set(input_list):\n",
    "        if input_list.count(i)>1:\n",
    "            output.add(i+'s')\n",
    "        else:\n",
    "            output.add(i)\n",
    "    print(f'pluralize({input_list}) ➞ {output}')"
   ]
  },
  {
   "cell_type": "code",
   "execution_count": 34,
   "metadata": {},
   "outputs": [
    {
     "name": "stdout",
     "output_type": "stream",
     "text": [
      "pluralize(['cow', 'pig', 'cow', 'cow']) ➞ {'cows', 'pig'}\n",
      "pluralize(['table', 'table', 'table']) ➞ {'tables'}\n",
      "pluralize(['chair', 'pencil', 'arm']) ➞ {'pencil', 'arm', 'chair'}\n"
     ]
    }
   ],
   "source": [
    "pluralize(['cow','pig','cow','cow'])\n",
    "pluralize([\"table\", \"table\", \"table\"])\n",
    "pluralize([\"chair\", \"pencil\", \"arm\"])"
   ]
  }
 ],
 "metadata": {
  "kernelspec": {
   "display_name": "Python 3",
   "language": "python",
   "name": "python3"
  },
  "language_info": {
   "codemirror_mode": {
    "name": "ipython",
    "version": 3
   },
   "file_extension": ".py",
   "mimetype": "text/x-python",
   "name": "python",
   "nbconvert_exporter": "python",
   "pygments_lexer": "ipython3",
   "version": "3.8.6"
  }
 },
 "nbformat": 4,
 "nbformat_minor": 4
}
